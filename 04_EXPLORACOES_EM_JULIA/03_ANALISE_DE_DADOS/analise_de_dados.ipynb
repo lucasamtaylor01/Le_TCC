{
 "cells": [
  {
   "cell_type": "markdown",
   "id": "67cc2f34",
   "metadata": {},
   "source": [
    "# Tarefa: 07 de maio de 2025\n",
    "\n",
    "## 💡 Ideia central\n",
    "Iniciar as primeiras simulações em Julia seguindo o exemplo da seção 1.7.2 do livro _Multiscale Methods Averaging and Homogenization_.\n",
    "\n"
   ]
  },
  {
   "cell_type": "markdown",
   "id": "e44ea822",
   "metadata": {},
   "source": [
    "## 🎯 Apresentação dos modelos\n",
    "\n",
    "O modelo determinístico apresentado abaixo:\n",
    "\n",
    "$$\n",
    "\\begin{aligned}\n",
    "    \\frac{dx}{dt} &= x - x^3 + \\frac{\\lambda}{\\varepsilon} y_2, \\\\\n",
    "    \\frac{dy_1}{dt} &= \\frac{10}{\\varepsilon^2} (y_2 - y_1), \\\\\n",
    "    \\frac{dy_2}{dt} &= \\frac{1}{\\varepsilon^2} (28 y_1 - y_2 - y_1 y_3), \\\\\n",
    "    \\frac{dy_3}{dt} &= \\frac{1}{\\varepsilon^2} \\left( y_1 y_2 - \\frac{8}{3} y_3 \\right).\n",
    "\\end{aligned}\n",
    "$$\n",
    "\n",
    "O modelo estocástico é dado por:\n",
    "$$\n",
    "    \\frac{dX}{dt} = X - X^3 + \\sigma \\frac{dW}{dt}\n",
    "$$\n",
    "\n",
    "Onde:\n",
    "\n",
    "$$\n",
    "    \\sigma^2 = 2\\lambda^2 \\int_0^\\infty \\frac{1}{T} \\left( \\lim_{T \\to \\infty} \\int_0^T \\psi^s(y) \\psi^{t+s}(y) \\, ds \\right) dt.\n",
    "$$\n"
   ]
  },
  {
   "cell_type": "markdown",
   "id": "38df7d75",
   "metadata": {},
   "source": [
    "## 🚀 Análise de dados\n",
    "\n",
    "O presente código visa realizar as primeiras simulações do sistema sem tanta preocupação com detalhes da linguagem e uma manipulação matemática tão rigorosa. Interprete a seção como um primeiro passo."
   ]
  },
  {
   "cell_type": "code",
   "execution_count": 2,
   "id": "ada46805",
   "metadata": {},
   "outputs": [],
   "source": [
    "using DifferentialEquations, Plots, CSV, DataFrames"
   ]
  },
  {
   "cell_type": "code",
   "execution_count": 5,
   "id": "4fb5fd05",
   "metadata": {},
   "outputs": [
    {
     "data": {
      "text/plain": [
       "\"csv/sistema_deterministico.csv\""
      ]
     },
     "metadata": {},
     "output_type": "display_data"
    }
   ],
   "source": [
    "# Sistema original\n",
    "\n",
    "function f(du, u, p, t)\n",
    "    lambda = 1.0\n",
    "    epsilon = 0.1\n",
    "\n",
    "    x, y1, y2, y3 = u\n",
    "\n",
    "    du[1] = x - x^3 + (lambda/epsilon) * y2\n",
    "    du[2] = (10 / epsilon^2) * (y2 - y1)\n",
    "    du[3] = (1 / epsilon^2) * (28*y1 - y2 - y1*y3)  \n",
    "    du[4] = (1 / epsilon^2) * (y1*y2 - (8/3)*y3)\n",
    "end\n",
    "\n",
    "u0 = [0.1, 0.01, 0.01, 0.01]\n",
    "tspan = (0.0, 20.0)\n",
    "prob = ODEProblem(f, u0, tspan)\n",
    "solucao_deterministico = solve(prob, abstol=1e-8, reltol=1e-6, maxiters=1_000_000)\n",
    "\n",
    "df = DataFrame(solucao_deterministico)\n",
    "rename!(df, [:timestamp, :x, :y1, :y2, :y3])\n",
    "CSV.write(\"csv/sistema_deterministico.csv\", df)"
   ]
  },
  {
   "cell_type": "code",
   "execution_count": 9,
   "id": "2c0fa5f0",
   "metadata": {},
   "outputs": [
    {
     "data": {
      "text/plain": [
       "\"csv/sistema_estocastico.csv\""
      ]
     },
     "metadata": {},
     "output_type": "display_data"
    }
   ],
   "source": [
    "# Sistema estocástico\n",
    "sigma = 7.25\n",
    "x0 = 0.1\n",
    "tspan = (0.0, 100.0)\n",
    "\n",
    "f1(X, p, t) = X - X^3\n",
    "f2(X, p, t) = sigma\n",
    "\n",
    "W = WienerProcess(0.0, 0.0, 0.0)\n",
    "prob = SDEProblem(f1, f2, x0, tspan, noise=W)\n",
    "solucao_estocastico = solve(prob, SRIW1(), dt=0.01)\n",
    "\n",
    "df = DataFrame(solucao_estocastico)\n",
    "rename!(df, [:timestamp, :x])\n",
    "CSV.write(\"csv/sistema_estocastico.csv\", df)"
   ]
  },
  {
   "cell_type": "code",
   "execution_count": 10,
   "id": "76ab2eaa",
   "metadata": {},
   "outputs": [
    {
     "data": {
      "text/plain": [
       "EnsembleSolution Solution of length 100 with uType:\n",
       "RODESolution{Float64, 1, Vector{Float64}, Nothing, Nothing, Vector{Float64}, NoiseProcess{Float64, 1, Float64, Float64, Float64, Vector{Float64}, typeof(DiffEqNoiseProcess.WHITE_NOISE_DIST), typeof(DiffEqNoiseProcess.WHITE_NOISE_BRIDGE), Nothing, false, ResettableStacks.ResettableStack{Tuple{Float64, Float64, Float64}, false}, ResettableStacks.ResettableStack{Tuple{Float64, Float64, Float64}, false}, RSWM{Float64}, Nothing, RandomNumbers.Xorshifts.Xoroshiro128Plus}, Nothing, SDEProblem{Float64, Tuple{Float64, Float64}, false, SciMLBase.NullParameters, NoiseProcess{Float64, 1, Float64, Float64, Float64, Vector{Float64}, typeof(DiffEqNoiseProcess.WHITE_NOISE_DIST), typeof(DiffEqNoiseProcess.WHITE_NOISE_BRIDGE), Nothing, false, ResettableStacks.ResettableStack{Tuple{Float64, Float64, Float64}, false}, ResettableStacks.ResettableStack{Tuple{Float64, Float64, Float64}, false}, RSWM{Float64}, Nothing, RandomNumbers.Xorshifts.Xoroshiro128Plus}, SDEFunction{false, SciMLBase.FullSpecialize, typeof(f1), typeof(f2), LinearAlgebra.UniformScaling{Bool}, Nothing, Nothing, Nothing, Nothing, Nothing, Nothing, Nothing, Nothing, Nothing, Nothing, Nothing, typeof(SciMLBase.DEFAULT_OBSERVED), Nothing, Nothing, Nothing}, typeof(f2), Base.Pairs{Symbol, Union{}, Tuple{}, @NamedTuple{}}, Nothing}, SRIW1, StochasticDiffEq.LinearInterpolationData{Vector{Float64}, Vector{Float64}}, SciMLBase.DEStats, Nothing, Nothing}"
      ]
     },
     "metadata": {},
     "output_type": "display_data"
    }
   ],
   "source": [
    "# Sistema estocástico (com ensemble)\n",
    "\n",
    "sigma = 7.25\n",
    "x0 = 0.1\n",
    "tspan = (0.0, 100.0)\n",
    "\n",
    "f1(X, p, t) = X - X^3\n",
    "f2(X, p, t) = sigma\n",
    "\n",
    "W = WienerProcess(0.0, 0.0, 0.0)\n",
    "prob = SDEProblem(f1, f2, x0, tspan, noise=W)\n",
    "\n",
    "ensemble_prob = EnsembleProblem(prob)\n",
    "ensemble_sol = solve(ensemble_prob, SRIW1(), dt=0.01, trajectories=100)"
   ]
  }
 ],
 "metadata": {
  "kernelspec": {
   "display_name": "Julia 1.11.5",
   "language": "julia",
   "name": "julia-1.11"
  },
  "language_info": {
   "file_extension": ".jl",
   "mimetype": "application/julia",
   "name": "julia",
   "version": "1.11.5"
  }
 },
 "nbformat": 4,
 "nbformat_minor": 5
}
