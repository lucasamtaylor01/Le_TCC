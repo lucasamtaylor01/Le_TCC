{
 "cells": [
  {
   "cell_type": "code",
   "execution_count": null,
   "id": "088e0682",
   "metadata": {},
   "outputs": [
    {
     "ename": "",
     "evalue": "",
     "output_type": "error",
     "traceback": [
      "\u001b[1;31mRunning cells with 'Python 3.11.2' requires the ipykernel package.\n",
      "\u001b[1;31m<a href='command:jupyter.createPythonEnvAndSelectController'>Create a Python Environment</a> with the required packages.\n",
      "\u001b[1;31mOr install 'ipykernel' using the command: '/usr/bin/python3 -m pip install ipykernel -U --user --force-reinstall'"
     ]
    }
   ],
   "source": [
    "import pandas as pd\n",
    "import matplotlib.pyplot as plt\n",
    "\n",
    "\n",
    "df = pd.read_csv('csv/sistema_estocastico.csv')\n"
   ]
  },
  {
   "cell_type": "code",
   "execution_count": 4,
   "id": "34df2e67",
   "metadata": {},
   "outputs": [],
   "source": [
    "medianas = []\n",
    "medias = []\n",
    "desvio_padrao = []\n",
    "\n",
    "for i in range(df.shape[0]):  # percorre cada instante de tempo\n",
    "    linha_dados = df.iloc[i, 1:]  # ignora a coluna 't'\n",
    "    medianas.append(linha_dados.median())\n",
    "    medias.append(linha_dados.mean())\n",
    "    desvio_padrao.append(linha_dados.std())\n",
    "\n",
    "df_analise = pd.DataFrame({\n",
    "    't': df['t'],\n",
    "    'Mediana': medianas,\n",
    "    'Média': medias,\n",
    "    'Desvio Padrão': desvio_padrao\n",
    "})\n",
    "\n",
    "df_analise.to_csv(\"csv/df_analise.csv\", index=False)\n"
   ]
  },
  {
   "cell_type": "code",
   "execution_count": null,
   "id": "c2c961db",
   "metadata": {},
   "outputs": [
    {
     "ename": "ModuleNotFoundError",
     "evalue": "No module named 'matplotlib'",
     "output_type": "error",
     "traceback": [
      "\u001b[31m---------------------------------------------------------------------------\u001b[39m",
      "\u001b[31mModuleNotFoundError\u001b[39m                       Traceback (most recent call last)",
      "\u001b[36mCell\u001b[39m\u001b[36m \u001b[39m\u001b[32mIn[3]\u001b[39m\u001b[32m, line 2\u001b[39m\n\u001b[32m      1\u001b[39m \u001b[38;5;28;01mimport\u001b[39;00m\u001b[38;5;250m \u001b[39m\u001b[34;01mpandas\u001b[39;00m\u001b[38;5;250m \u001b[39m\u001b[38;5;28;01mas\u001b[39;00m\u001b[38;5;250m \u001b[39m\u001b[34;01mpd\u001b[39;00m\n\u001b[32m----> \u001b[39m\u001b[32m2\u001b[39m \u001b[38;5;28;01mimport\u001b[39;00m\u001b[38;5;250m \u001b[39m\u001b[34;01mmatplotlib\u001b[39;00m\u001b[34;01m.\u001b[39;00m\u001b[34;01mpyplot\u001b[39;00m\u001b[38;5;250m \u001b[39m\u001b[38;5;28;01mas\u001b[39;00m\u001b[38;5;250m \u001b[39m\u001b[34;01mplt\u001b[39;00m\n\u001b[32m      5\u001b[39m df = pd.read_csv(\u001b[33m\"\u001b[39m\u001b[33mdf_analise.csv\u001b[39m\u001b[33m\"\u001b[39m)  \u001b[38;5;66;03m# ajuste o caminho se necessário\u001b[39;00m\n\u001b[32m      7\u001b[39m \u001b[38;5;66;03m# Gráfico da Mediana\u001b[39;00m\n",
      "\u001b[31mModuleNotFoundError\u001b[39m: No module named 'matplotlib'"
     ]
    }
   ],
   "source": [
    "\n",
    "df = pd.read_csv(\"df_analise.csv\")  # ajuste o caminho se necessário\n",
    "\n",
    "# Gráfico da Mediana\n",
    "plt.figure(figsize=(10, 5))\n",
    "plt.plot(df[\"t\"], df[\"Mediana\"], label=\"Mediana\", linewidth=2)\n",
    "plt.xlabel(\"Tempo\")\n",
    "plt.ylabel(\"Mediana\")\n",
    "plt.title(\"Mediana em função do tempo\")\n",
    "plt.grid(True)\n",
    "plt.tight_layout()\n",
    "plt.show()\n",
    "\n",
    "# Gráfico da Média\n",
    "plt.figure(figsize=(10, 5))\n",
    "plt.plot(df[\"t\"], df[\"Média\"], label=\"Média\", linewidth=2, color='orange')\n",
    "plt.xlabel(\"Tempo\")\n",
    "plt.ylabel(\"Média\")\n",
    "plt.title(\"Média em função do tempo\")\n",
    "plt.grid(True)\n",
    "plt.tight_layout()\n",
    "plt.show()\n"
   ]
  }
 ],
 "metadata": {
  "kernelspec": {
   "display_name": "Python 3",
   "language": "python",
   "name": "python3"
  },
  "language_info": {
   "codemirror_mode": {
    "name": "ipython",
    "version": 3
   },
   "file_extension": ".py",
   "mimetype": "text/x-python",
   "name": "python",
   "nbconvert_exporter": "python",
   "pygments_lexer": "ipython3",
   "version": "3.11.2"
  }
 },
 "nbformat": 4,
 "nbformat_minor": 5
}
